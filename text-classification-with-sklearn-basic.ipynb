{
 "cells": [
  {
   "cell_type": "code",
   "execution_count": 2,
   "metadata": {},
   "outputs": [],
   "source": [
    "import pandas as pd\n",
    "\n",
    "#Dataset\n",
    "from sklearn.datasets import fetch_20newsgroups\n",
    "\n",
    "from string import punctuation\n",
    "\n",
    "#feature extraction\n",
    "from sklearn.feature_extraction.text import TfidfVectorizer\n",
    "\n",
    "#classificadores\n",
    "from sklearn.linear_model import SGDClassifier\n",
    "from sklearn.svm import SVC, LinearSVC\n",
    "from sklearn.neural_network import MLPClassifier\n",
    "from sklearn.naive_bayes import GaussianNB\n",
    "from sklearn.naive_bayes import MultinomialNB\n",
    "from sklearn.ensemble import RandomForestClassifier\n",
    "\n",
    "from sklearn import metrics\n",
    "from sklearn.metrics import confusion_matrix\n",
    "from sklearn.model_selection import train_test_split\n"
   ]
  },
  {
   "cell_type": "code",
   "execution_count": 3,
   "metadata": {},
   "outputs": [
    {
     "data": {
      "text/plain": [
       "[u\"From: lerxst@wam.umd.edu (where's my thing)\\nSubject: WHAT car is this!?\\nNntp-Posting-Host: rac3.wam.umd.edu\\nOrganization: University of Maryland, College Park\\nLines: 15\\n\\n I was wondering if anyone out there could enlighten me on this car I saw\\nthe other day. It was a 2-door sports car, looked to be from the late 60s/\\nearly 70s. It was called a Bricklin. The doors were really small. In addition,\\nthe front bumper was separate from the rest of the body. This is \\nall I know. If anyone can tellme a model name, engine specs, years\\nof production, where this car is made, history, or whatever info you\\nhave on this funky looking car, please e-mail.\\n\\nThanks,\\n- IL\\n   ---- brought to you by your neighborhood Lerxst ----\\n\\n\\n\\n\\n\"]"
      ]
     },
     "execution_count": 3,
     "metadata": {},
     "output_type": "execute_result"
    }
   ],
   "source": [
    "dataset = fetch_20newsgroups()\n",
    "dataset.data[:1]"
   ]
  },
  {
   "cell_type": "code",
   "execution_count": 4,
   "metadata": {},
   "outputs": [
    {
     "data": {
      "text/plain": [
       "['alt.atheism',\n",
       " 'comp.graphics',\n",
       " 'comp.os.ms-windows.misc',\n",
       " 'comp.sys.ibm.pc.hardware',\n",
       " 'comp.sys.mac.hardware',\n",
       " 'comp.windows.x',\n",
       " 'misc.forsale',\n",
       " 'rec.autos',\n",
       " 'rec.motorcycles',\n",
       " 'rec.sport.baseball',\n",
       " 'rec.sport.hockey',\n",
       " 'sci.crypt',\n",
       " 'sci.electronics',\n",
       " 'sci.med',\n",
       " 'sci.space',\n",
       " 'soc.religion.christian',\n",
       " 'talk.politics.guns',\n",
       " 'talk.politics.mideast',\n",
       " 'talk.politics.misc',\n",
       " 'talk.religion.misc']"
      ]
     },
     "execution_count": 4,
     "metadata": {},
     "output_type": "execute_result"
    }
   ],
   "source": [
    "dataset.target_names"
   ]
  },
  {
   "cell_type": "code",
   "execution_count": 5,
   "metadata": {},
   "outputs": [],
   "source": [
    "#utilizar apenas duas categorias para demonstração\n",
    "categories = ['rec.autos', 'rec.sport.baseball']\n",
    "\n",
    "#shuffle serve para embaralhar os dados\n",
    "dataset_train = fetch_20newsgroups(subset='train', categories=categories, shuffle=True, random_state=42) "
   ]
  },
  {
   "cell_type": "code",
   "execution_count": 6,
   "metadata": {},
   "outputs": [
    {
     "data": {
      "text/plain": [
       "['rec.autos', 'rec.sport.baseball']"
      ]
     },
     "execution_count": 6,
     "metadata": {},
     "output_type": "execute_result"
    }
   ],
   "source": [
    "#nomes das categorias\n",
    "dataset_train.target_names"
   ]
  },
  {
   "cell_type": "code",
   "execution_count": 7,
   "metadata": {},
   "outputs": [
    {
     "data": {
      "text/plain": [
       "array([0, 1, 1, 1, 1])"
      ]
     },
     "execution_count": 7,
     "metadata": {},
     "output_type": "execute_result"
    }
   ],
   "source": [
    "#rótulo de cada categoria\n",
    "dataset_train.target[:5]"
   ]
  },
  {
   "cell_type": "code",
   "execution_count": 8,
   "metadata": {},
   "outputs": [],
   "source": [
    "#cálculo TF-IDF para identificação do peso (importância) de cada termo no dataset\n",
    "vectorizer = TfidfVectorizer()\n",
    "x_train_tfidf_vectorize = vectorizer.fit_transform(dataset_train.data)"
   ]
  },
  {
   "cell_type": "code",
   "execution_count": 9,
   "metadata": {},
   "outputs": [],
   "source": [
    "#separação do conjunto em grupos para treinamento e teste\n",
    "X, Y = x_train_tfidf_vectorize, dataset_train.target\n",
    "\n",
    "# 30% dos dados é destinado para teste\n",
    "x_train, x_test, y_train, y_test = train_test_split(X, Y, test_size=0.3, random_state=42)"
   ]
  },
  {
   "cell_type": "code",
   "execution_count": 10,
   "metadata": {},
   "outputs": [
    {
     "name": "stdout",
     "output_type": "stream",
     "text": [
      "(833, 18391)\n",
      "(833,)\n",
      "(358, 18391)\n",
      "(358,)\n"
     ]
    }
   ],
   "source": [
    "# quantidade de dados em cada conjunto\n",
    "print(x_train.shape)\n",
    "print(y_train.shape)\n",
    "print(x_test.shape)\n",
    "print(y_test.shape)"
   ]
  },
  {
   "cell_type": "code",
   "execution_count": 11,
   "metadata": {},
   "outputs": [
    {
     "name": "stderr",
     "output_type": "stream",
     "text": [
      "/home/tfc/anaconda2/lib/python2.7/site-packages/sklearn/linear_model/stochastic_gradient.py:128: FutureWarning: max_iter and tol parameters have been added in <class 'sklearn.linear_model.stochastic_gradient.SGDClassifier'> in 0.19. If both are left unset, they default to max_iter=5 and tol=None. If tol is not None, max_iter defaults to max_iter=1000. From 0.21, default max_iter will be 1000, and default tol will be 1e-3.\n",
      "  \"and default tol will be 1e-3.\" % type(self), FutureWarning)\n"
     ]
    },
    {
     "name": "stdout",
     "output_type": "stream",
     "text": [
      "                    precision    recall  f1-score   support\n",
      "\n",
      "         rec.autos      0.983     0.988     0.985       171\n",
      "rec.sport.baseball      0.989     0.984     0.987       187\n",
      "\n",
      "       avg / total      0.986     0.986     0.986       358\n",
      "\n"
     ]
    }
   ],
   "source": [
    "'''\n",
    "http://scikit-learn.org/stable/modules/generated/sklearn.linear_model.SGDClassifier.html\n",
    "\n",
    "This estimator implements regularized linear models with stochastic gradient descent (SGD) learning: the gradient \n",
    "of the loss is estimated each sample at a time and the model is updated along the way with a decreasing strength\n",
    "schedule (aka learning rate).\n",
    "\n",
    "This implementation works with data represented as dense or sparse arrays of floating point values for the \n",
    "features. The model it fits can be controlled with the loss parameter; by default, it fits a linear support\n",
    "vector machine (SVM).\n",
    "\n",
    "http://scikit-learn.org/stable/modules/sgd.html\n",
    "\n",
    "SGD has been successfully applied to large-scale and sparse machine learning problems often encountered in text \n",
    "classification and natural language processing.\n",
    "\n",
    "'''\n",
    "\n",
    "svm = SGDClassifier()\n",
    "svm.fit(x_train, y_train)\n",
    "y_pred_svm = svm.predict(x_test)\n",
    "\n",
    "print(metrics.classification_report(y_test, y_pred_svm, target_names=categories, digits=3))"
   ]
  },
  {
   "cell_type": "code",
   "execution_count": 12,
   "metadata": {},
   "outputs": [
    {
     "data": {
      "text/plain": [
       "1.0"
      ]
     },
     "execution_count": 12,
     "metadata": {},
     "output_type": "execute_result"
    }
   ],
   "source": [
    "#resultado do treinamento - acurácia média\n",
    "acc_svm = round(svm.score(x_train, y_train), 3)\n",
    "acc_svm"
   ]
  },
  {
   "cell_type": "code",
   "execution_count": 13,
   "metadata": {},
   "outputs": [
    {
     "name": "stdout",
     "output_type": "stream",
     "text": [
      "                    precision    recall  f1-score   support\n",
      "\n",
      "         rec.autos      0.977     0.988     0.983       171\n",
      "rec.sport.baseball      0.989     0.979     0.984       187\n",
      "\n",
      "       avg / total      0.983     0.983     0.983       358\n",
      "\n"
     ]
    }
   ],
   "source": [
    "'''\n",
    "Naive Bayes methods are a set of supervised learning algorithms based on applying Bayes' theorem with the \"naive\"\n",
    "assumption of independence between every pai of features.\n",
    "\n",
    "Multinomial NB implements the NB algorithm for multinomially distributed data, and is one of the two classic naive \n",
    "bayes variants used in text classification (where the data are typically represented as word vector counts, \n",
    "although tf-idf vectors are also known to work well in practice)\n",
    "\n",
    "'''\n",
    "\n",
    "nb = MultinomialNB()\n",
    "\n",
    "nb.fit(x_train, y_train)\n",
    "y_pred_nb = nb.predict(x_test)\n",
    "print(metrics.classification_report(y_test, y_pred_nb, target_names=categories, digits=3))"
   ]
  },
  {
   "cell_type": "code",
   "execution_count": 14,
   "metadata": {},
   "outputs": [
    {
     "data": {
      "text/plain": [
       "0.998"
      ]
     },
     "execution_count": 14,
     "metadata": {},
     "output_type": "execute_result"
    }
   ],
   "source": [
    "#resultado treinamento\n",
    "acc_nb = round(nb.score(x_train, y_train), 3)\n",
    "acc_nb"
   ]
  },
  {
   "cell_type": "code",
   "execution_count": 15,
   "metadata": {},
   "outputs": [
    {
     "name": "stdout",
     "output_type": "stream",
     "text": [
      "                    precision    recall  f1-score   support\n",
      "\n",
      "         rec.autos      0.842     0.936     0.886       171\n",
      "rec.sport.baseball      0.935     0.840     0.885       187\n",
      "\n",
      "       avg / total      0.890     0.885     0.885       358\n",
      "\n"
     ]
    }
   ],
   "source": [
    "'''\n",
    "A random forest is a meta estimator that fits a number of decision tree classifiers on various sub-samples of the\n",
    "datasat and use averaging to improve the predictive accuracy and control over-fitting.\n",
    "\n",
    "'''\n",
    "\n",
    "\n",
    "random_f = RandomForestClassifier()\n",
    "random_f.fit(x_train, y_train)\n",
    "y_pred_random_f = random_f.predict(x_test)\n",
    "\n",
    "print(metrics.classification_report(y_test, y_pred_random_f, target_names=categories, digits=3))\n"
   ]
  },
  {
   "cell_type": "code",
   "execution_count": 16,
   "metadata": {},
   "outputs": [
    {
     "data": {
      "text/plain": [
       "0.996"
      ]
     },
     "execution_count": 16,
     "metadata": {},
     "output_type": "execute_result"
    }
   ],
   "source": [
    "#resultado treinamento\n",
    "acc_random_f = round(random_f.score(x_train, y_train), 3)\n",
    "acc_random_f"
   ]
  },
  {
   "cell_type": "code",
   "execution_count": 17,
   "metadata": {},
   "outputs": [
    {
     "data": {
      "text/html": [
       "<div>\n",
       "<style scoped>\n",
       "    .dataframe tbody tr th:only-of-type {\n",
       "        vertical-align: middle;\n",
       "    }\n",
       "\n",
       "    .dataframe tbody tr th {\n",
       "        vertical-align: top;\n",
       "    }\n",
       "\n",
       "    .dataframe thead th {\n",
       "        text-align: right;\n",
       "    }\n",
       "</style>\n",
       "<table border=\"1\" class=\"dataframe\">\n",
       "  <thead>\n",
       "    <tr style=\"text-align: right;\">\n",
       "      <th></th>\n",
       "      <th>Acuracia</th>\n",
       "      <th>Modelo</th>\n",
       "    </tr>\n",
       "  </thead>\n",
       "  <tbody>\n",
       "    <tr>\n",
       "      <th>0</th>\n",
       "      <td>1.000</td>\n",
       "      <td>Stochastic Gradient Decent</td>\n",
       "    </tr>\n",
       "    <tr>\n",
       "      <th>1</th>\n",
       "      <td>0.998</td>\n",
       "      <td>Naive Bayes</td>\n",
       "    </tr>\n",
       "    <tr>\n",
       "      <th>2</th>\n",
       "      <td>0.996</td>\n",
       "      <td>Random Forest</td>\n",
       "    </tr>\n",
       "  </tbody>\n",
       "</table>\n",
       "</div>"
      ],
      "text/plain": [
       "   Acuracia                      Modelo\n",
       "0     1.000  Stochastic Gradient Decent\n",
       "1     0.998                 Naive Bayes\n",
       "2     0.996               Random Forest"
      ]
     },
     "execution_count": 17,
     "metadata": {},
     "output_type": "execute_result"
    }
   ],
   "source": [
    "#Sumarização dos resultados\n",
    "\n",
    "models = pd.DataFrame({\n",
    "    'Modelo': ['Stochastic Gradient Decent', 'Naive Bayes', 'Random Forest'],\n",
    "    'Acuracia': [acc_svm, acc_nb, acc_random_f]\n",
    "    })\n",
    "models.sort_values(by='Acuracia', ascending=False)"
   ]
  },
  {
   "cell_type": "markdown",
   "metadata": {},
   "source": [
    "Na média, os resultados para as métricas Precision, Recall e F1-Score foram os melhores para o classificador \n",
    "SGDClassifier\n"
   ]
  },
  {
   "cell_type": "markdown",
   "metadata": {},
   "source": [
    "#### Predição de novos dados\n"
   ]
  },
  {
   "cell_type": "code",
   "execution_count": 43,
   "metadata": {},
   "outputs": [],
   "source": [
    "#notícias de baseball- 1º, 2º, 5º, 7º\n",
    "#notícias sobre veículos - 3º, 4º, 6º\n",
    "\n",
    "#frases tiradas de sites de notícias\n",
    "new_docs = [\n",
    "    \"Major League Baseball has released its postseason schedule for 2018 and there's immediately good news: no November baseball.\",\n",
    "    \"If the World Series runs all seven games -- and c'mon, it's best when it does -- the final game of the season would take place on Halloween.\",\n",
    "    \"The government is preparing a fresh policy for promotion of electric vehicles, which will be rolled out initially on a smaller scale to ensure smoother transition and better cooperation from the automobile sector, a government official said.\",\n",
    "    \"The swift way in which the Idea-Vodafone merger is progressing under a year shows the improvement in ease of doing business in India.\",\n",
    "    \"MLB trade deadline: Orioles' Adam Jones explains why he vetoed a deal to the Phillies\",\n",
    "    \"The company, however, said it is currently working out the details of the quantum of price increase, which will vary depending on the model\",\n",
    "    \"Old standbys like Luis Severino and Corey Kluber haven't quite looked like themselves of late, and they're not alone. Scott White assesses the reliability of 20 presumed mainstays.\"\n",
    "]\n",
    "\n",
    "# 0 = autos, 1 = baseball\n",
    "y_new_docs = [1,1,0,0,1,0,1]\n",
    "\n",
    "x_new_tfidf_vectorize = vectorizer.transform(new_docs)"
   ]
  },
  {
   "cell_type": "code",
   "execution_count": 33,
   "metadata": {},
   "outputs": [
    {
     "name": "stdout",
     "output_type": "stream",
     "text": [
      "\"Major League Baseball has released its postseason schedule for 2018 and there's immediately good news: no November baseball.\" => rec.sport.baseball\n",
      "\"If the World Series runs all seven games -- and c'mon, it's best when it does -- the final game of the season would take place on Halloween.\" => rec.sport.baseball\n",
      "'The government is preparing a fresh policy for promotion of electric vehicles, which will be rolled out initially on a smaller scale to ensure smoother transition and better cooperation from the automobile sector, a government official said.' => rec.autos\n",
      "'The swift way in which the Idea-Vodafone merger is progressing under a year shows the improvement in ease of doing business in India.' => rec.sport.baseball\n",
      "\"MLB trade deadline: Orioles' Adam Jones explains why he vetoed a deal to the Phillies\" => rec.sport.baseball\n",
      "'The company, however, said it is currently working out the details of the quantum of price increase, which will vary depending on the model' => rec.autos\n",
      "\"Old standbys like Luis Severino and Corey Kluber haven't quite looked like themselves of late, and they're not alone. Scott White assesses the reliability of 20 presumed mainstays.\" => rec.sport.baseball\n"
     ]
    }
   ],
   "source": [
    "svm_predicted = svm.predict(x_new_tfidf_vectorize)\n",
    "\n",
    "for doc, category in zip(new_docs, svm_predicted):\n",
    "    print('%r => %s' % (doc, dataset_train.target_names[category]))"
   ]
  },
  {
   "cell_type": "code",
   "execution_count": 34,
   "metadata": {},
   "outputs": [
    {
     "name": "stdout",
     "output_type": "stream",
     "text": [
      "                    precision    recall  f1-score   support\n",
      "\n",
      "         rec.autos      1.000     0.667     0.800         3\n",
      "rec.sport.baseball      0.800     1.000     0.889         4\n",
      "\n",
      "       avg / total      0.886     0.857     0.851         7\n",
      "\n"
     ]
    }
   ],
   "source": [
    "print(metrics.classification_report(y_new_docs, svm_predicted, target_names=categories, digits=3))"
   ]
  },
  {
   "cell_type": "markdown",
   "metadata": {},
   "source": [
    "Utilizando o classificador SGDClassifier, o modelo errou apenas uma das entradas: \n",
    "\n",
    "The swift way in which the Idea-Vodafone merger is progressing under a year shows the improvement in ease of doing business in India.' => rec.sport.baseball\n",
    "\n",
    "O *recall* para classe *baseball* foi de 100%, pois o classificador conseguiu encontrar todos os documentos referentes a essa classe. E *precision* foi de 80%, já que um dos docs considerado como baseball, na realidade pertencia a outra classe."
   ]
  },
  {
   "cell_type": "code",
   "execution_count": 39,
   "metadata": {},
   "outputs": [
    {
     "name": "stdout",
     "output_type": "stream",
     "text": [
      "\"Major League Baseball has released its postseason schedule for 2018 and there's immediately good news: no November baseball.\" => rec.sport.baseball\n",
      "\"If the World Series runs all seven games -- and c'mon, it's best when it does -- the final game of the season would take place on Halloween.\" => rec.sport.baseball\n",
      "'The government is preparing a fresh policy for promotion of electric vehicles, which will be rolled out initially on a smaller scale to ensure smoother transition and better cooperation from the automobile sector, a government official said.' => rec.autos\n",
      "'The swift way in which the Idea-Vodafone merger is progressing under a year shows the improvement in ease of doing business in India.' => rec.autos\n",
      "\"MLB trade deadline: Orioles' Adam Jones explains why he vetoed a deal to the Phillies\" => rec.sport.baseball\n",
      "'The company, however, said it is currently working out the details of the quantum of price increase, which will vary depending on the model' => rec.autos\n",
      "\"Old standbys like Luis Severino and Corey Kluber haven't quite looked like themselves of late, and they're not alone. Scott White assesses the reliability of 20 presumed mainstays.\" => rec.sport.baseball\n"
     ]
    }
   ],
   "source": [
    "nb_predicted = nb.predict(x_new_tfidf_vectorize)\n",
    "\n",
    "for doc, category in zip(new_docs, nb_predicted):\n",
    "    print('%r => %s' % (doc, dataset_train.target_names[category]))"
   ]
  },
  {
   "cell_type": "code",
   "execution_count": 40,
   "metadata": {},
   "outputs": [
    {
     "name": "stdout",
     "output_type": "stream",
     "text": [
      "                    precision    recall  f1-score   support\n",
      "\n",
      "         rec.autos      1.000     1.000     1.000         3\n",
      "rec.sport.baseball      1.000     1.000     1.000         4\n",
      "\n",
      "       avg / total      1.000     1.000     1.000         7\n",
      "\n"
     ]
    }
   ],
   "source": [
    "print(metrics.classification_report(y_new_docs, nb_predicted, target_names=categories, digits=3))"
   ]
  },
  {
   "cell_type": "markdown",
   "metadata": {},
   "source": [
    "O modelo utilizando o classificador Naive Bayes foi capaz de predizer corretamente todos os documentos."
   ]
  },
  {
   "cell_type": "code",
   "execution_count": 41,
   "metadata": {},
   "outputs": [
    {
     "name": "stdout",
     "output_type": "stream",
     "text": [
      "\"Major League Baseball has released its postseason schedule for 2018 and there's immediately good news: no November baseball.\" => rec.sport.baseball\n",
      "\"If the World Series runs all seven games -- and c'mon, it's best when it does -- the final game of the season would take place on Halloween.\" => rec.autos\n",
      "'The government is preparing a fresh policy for promotion of electric vehicles, which will be rolled out initially on a smaller scale to ensure smoother transition and better cooperation from the automobile sector, a government official said.' => rec.sport.baseball\n",
      "'The swift way in which the Idea-Vodafone merger is progressing under a year shows the improvement in ease of doing business in India.' => rec.sport.baseball\n",
      "\"MLB trade deadline: Orioles' Adam Jones explains why he vetoed a deal to the Phillies\" => rec.sport.baseball\n",
      "'The company, however, said it is currently working out the details of the quantum of price increase, which will vary depending on the model' => rec.autos\n",
      "\"Old standbys like Luis Severino and Corey Kluber haven't quite looked like themselves of late, and they're not alone. Scott White assesses the reliability of 20 presumed mainstays.\" => rec.sport.baseball\n"
     ]
    }
   ],
   "source": [
    "random_predicted = random_f.predict(x_new_tfidf_vectorize)\n",
    "\n",
    "for doc, category in zip(new_docs, random_predicted):\n",
    "    print('%r => %s' % (doc, dataset_train.target_names[category]))"
   ]
  },
  {
   "cell_type": "code",
   "execution_count": 42,
   "metadata": {},
   "outputs": [
    {
     "name": "stdout",
     "output_type": "stream",
     "text": [
      "                    precision    recall  f1-score   support\n",
      "\n",
      "         rec.autos      0.500     0.333     0.400         3\n",
      "rec.sport.baseball      0.600     0.750     0.667         4\n",
      "\n",
      "       avg / total      0.557     0.571     0.552         7\n",
      "\n"
     ]
    }
   ],
   "source": [
    "print(metrics.classification_report(y_new_docs, random_predicted, target_names=categories, digits=3))"
   ]
  },
  {
   "cell_type": "markdown",
   "metadata": {},
   "source": [
    "O modelo utilizando o classificador RandomForest não se saiu muito bem, principalmente considerando a classe *autos*.\n",
    "\n",
    "\"If the World Series runs all seven games -- and c'mon, it's best when it does -- the final game of the season would take place on Halloween.\" => rec.autos\n",
    "\n",
    "'The government is preparing a fresh policy for promotion of electric vehicles, which will be rolled out initially on a smaller scale to ensure smoother transition and better cooperation from the automobile sector, a government official said.' => rec.sport.baseball\n",
    "\n",
    "'The swift way in which the Idea-Vodafone merger is progressing under a year shows the improvement in ease of doing business in India.' => rec.sport.baseball"
   ]
  }
 ],
 "metadata": {
  "kernelspec": {
   "display_name": "Python 2",
   "language": "python",
   "name": "python2"
  },
  "language_info": {
   "codemirror_mode": {
    "name": "ipython",
    "version": 2
   },
   "file_extension": ".py",
   "mimetype": "text/x-python",
   "name": "python",
   "nbconvert_exporter": "python",
   "pygments_lexer": "ipython2",
   "version": "2.7.14"
  }
 },
 "nbformat": 4,
 "nbformat_minor": 2
}
