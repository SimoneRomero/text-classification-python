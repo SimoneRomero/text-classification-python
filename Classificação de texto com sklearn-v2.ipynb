{
 "cells": [
  {
   "cell_type": "code",
   "execution_count": 24,
   "metadata": {},
   "outputs": [],
   "source": [
    "import pandas as pd\n",
    "\n",
    "#Dataset\n",
    "from sklearn.datasets import fetch_20newsgroups\n",
    "\n",
    "from string import punctuation\n",
    "\n",
    "#feature extraction\n",
    "from sklearn.feature_extraction.text import TfidfVectorizer\n",
    "\n",
    "#classificadores\n",
    "from sklearn.linear_model import SGDClassifier\n",
    "from sklearn.naive_bayes import MultinomialNB\n",
    "from sklearn.ensemble import RandomForestClassifier\n",
    "\n",
    "from sklearn import metrics\n",
    "from sklearn.metrics import confusion_matrix\n",
    "from sklearn.model_selection import train_test_split\n",
    "from sklearn.cross_validation import cross_val_score\n"
   ]
  },
  {
   "cell_type": "code",
   "execution_count": 2,
   "metadata": {},
   "outputs": [
    {
     "data": {
      "text/plain": [
       "[u\"From: lerxst@wam.umd.edu (where's my thing)\\nSubject: WHAT car is this!?\\nNntp-Posting-Host: rac3.wam.umd.edu\\nOrganization: University of Maryland, College Park\\nLines: 15\\n\\n I was wondering if anyone out there could enlighten me on this car I saw\\nthe other day. It was a 2-door sports car, looked to be from the late 60s/\\nearly 70s. It was called a Bricklin. The doors were really small. In addition,\\nthe front bumper was separate from the rest of the body. This is \\nall I know. If anyone can tellme a model name, engine specs, years\\nof production, where this car is made, history, or whatever info you\\nhave on this funky looking car, please e-mail.\\n\\nThanks,\\n- IL\\n   ---- brought to you by your neighborhood Lerxst ----\\n\\n\\n\\n\\n\"]"
      ]
     },
     "execution_count": 2,
     "metadata": {},
     "output_type": "execute_result"
    }
   ],
   "source": [
    "dataset = fetch_20newsgroups()\n",
    "dataset.data[:1]"
   ]
  },
  {
   "cell_type": "code",
   "execution_count": 3,
   "metadata": {},
   "outputs": [
    {
     "data": {
      "text/plain": [
       "['alt.atheism',\n",
       " 'comp.graphics',\n",
       " 'comp.os.ms-windows.misc',\n",
       " 'comp.sys.ibm.pc.hardware',\n",
       " 'comp.sys.mac.hardware',\n",
       " 'comp.windows.x',\n",
       " 'misc.forsale',\n",
       " 'rec.autos',\n",
       " 'rec.motorcycles',\n",
       " 'rec.sport.baseball',\n",
       " 'rec.sport.hockey',\n",
       " 'sci.crypt',\n",
       " 'sci.electronics',\n",
       " 'sci.med',\n",
       " 'sci.space',\n",
       " 'soc.religion.christian',\n",
       " 'talk.politics.guns',\n",
       " 'talk.politics.mideast',\n",
       " 'talk.politics.misc',\n",
       " 'talk.religion.misc']"
      ]
     },
     "execution_count": 3,
     "metadata": {},
     "output_type": "execute_result"
    }
   ],
   "source": [
    "dataset.target_names"
   ]
  },
  {
   "cell_type": "code",
   "execution_count": 25,
   "metadata": {},
   "outputs": [],
   "source": [
    "#utilizar apenas duas categorias para demonstração\n",
    "categories = ['rec.autos', 'rec.sport.baseball']\n",
    "\n",
    "dataset_train = fetch_20newsgroups(subset='train', categories=categories, shuffle=True, random_state=42) "
   ]
  },
  {
   "cell_type": "code",
   "execution_count": 5,
   "metadata": {},
   "outputs": [
    {
     "data": {
      "text/plain": [
       "['rec.autos', 'rec.sport.baseball']"
      ]
     },
     "execution_count": 5,
     "metadata": {},
     "output_type": "execute_result"
    }
   ],
   "source": [
    "#nomes das categorias\n",
    "dataset_train.target_names"
   ]
  },
  {
   "cell_type": "code",
   "execution_count": 6,
   "metadata": {},
   "outputs": [
    {
     "data": {
      "text/plain": [
       "array([0, 1, 1, 1, 1])"
      ]
     },
     "execution_count": 6,
     "metadata": {},
     "output_type": "execute_result"
    }
   ],
   "source": [
    "#rótulo de cada categoria\n",
    "dataset_train.target[:5]"
   ]
  },
  {
   "cell_type": "code",
   "execution_count": 7,
   "metadata": {},
   "outputs": [],
   "source": [
    "#cálculo TF-IDF para identificação do peso (importância) de cada termo no dataset\n",
    "vectorizer = TfidfVectorizer()\n",
    "x_train_tfidf_vectorize = vectorizer.fit_transform(dataset_train.data)"
   ]
  },
  {
   "cell_type": "code",
   "execution_count": 8,
   "metadata": {},
   "outputs": [],
   "source": [
    "#separação do conjunto de dados, onde X representa as features (neste caso, o texto) e y a classe de cada amostra\n",
    "X, y = x_train_tfidf_vectorize, dataset_train.target"
   ]
  },
  {
   "cell_type": "markdown",
   "metadata": {},
   "source": [
    "### Utilizando cross-validation\n",
    "\n",
    "1. Necessário definir o número de folds (quantidade de grupos no qual o dataset será dividido)\n",
    "2. Utiliza 1 fold para teste e os demais para treinamento\n",
    "3. Cálculo do score\n",
    "4. Repete os passos 2 e 3 até que cada fold tenha sido utilizado como teste\n",
    "5. Calcula o score médio a partir do score de cada execução"
   ]
  },
  {
   "cell_type": "markdown",
   "metadata": {},
   "source": [
    "Podemos utilizar *cross_val_score* ou *cross_validate*. A diferença é que a função *cross_validate* permite a especificação de várias métricas de avaliação e retorna um dicionário contendo informações como *training scores*, *fit-times* e *score-times*."
   ]
  },
  {
   "cell_type": "code",
   "execution_count": 26,
   "metadata": {},
   "outputs": [],
   "source": [
    "#métricas ponderadas\n",
    "scoring = ['f1_weighted', 'precision_weighted', 'recall_weighted', 'accuracy' ]"
   ]
  },
  {
   "cell_type": "code",
   "execution_count": 27,
   "metadata": {},
   "outputs": [
    {
     "data": {
      "text/plain": [
       "['fit_time',\n",
       " 'score_time',\n",
       " 'test_accuracy',\n",
       " 'test_f1_weighted',\n",
       " 'test_precision_weighted',\n",
       " 'test_recall_weighted',\n",
       " 'train_accuracy',\n",
       " 'train_f1_weighted',\n",
       " 'train_precision_weighted',\n",
       " 'train_recall_weighted']"
      ]
     },
     "execution_count": 27,
     "metadata": {},
     "output_type": "execute_result"
    }
   ],
   "source": [
    "from sklearn.model_selection import cross_validate\n",
    "\n",
    "svm = SGDClassifier()\n",
    "#10 folds e como score, passamos as métricas definidas em scoring\n",
    "scores_svm = cross_validate(svm, X, y, cv=10, scoring=scoring)\n",
    "\n",
    "sorted(scores_svm.keys())\n"
   ]
  },
  {
   "cell_type": "code",
   "execution_count": 11,
   "metadata": {},
   "outputs": [
    {
     "name": "stdout",
     "output_type": "stream",
     "text": [
      "Accuracy: 0.988\n",
      "F1_weighted: 0.988\n",
      "Precision_weighted: 0.988\n",
      "Recall_weighted: 0.988\n"
     ]
    }
   ],
   "source": [
    "print('Accuracy: {:.3f}'.format(scores_svm['test_accuracy'].mean()))\n",
    "\n",
    "print('F1_weighted: {:.3f}'.format(scores_svm['test_f1_weighted'].mean()))\n",
    "\n",
    "print('Precision_weighted: {:.3f}'.format(scores_svm['test_precision_weighted'].mean()))\n",
    "\n",
    "print('Recall_weighted: {:.3f}'.format(scores_svm['test_recall_weighted'].mean()))"
   ]
  },
  {
   "cell_type": "code",
   "execution_count": 12,
   "metadata": {},
   "outputs": [
    {
     "name": "stdout",
     "output_type": "stream",
     "text": [
      "Accuracy: 0.988\n",
      "F1_weighted: 0.988\n",
      "Precision_weighted: 0.988\n",
      "Recall_weighted: 0.988\n"
     ]
    }
   ],
   "source": [
    "nb = MultinomialNB()\n",
    "\n",
    "scores_nb = cross_validate(nb, X, y, cv=10, scoring=scoring)\n",
    "\n",
    "\n",
    "print('Accuracy: {:.3f}'.format(scores_nb['test_accuracy'].mean()))\n",
    "\n",
    "print('F1_weighted: {:.3f}'.format(scores_nb['test_f1_weighted'].mean()))\n",
    "\n",
    "print('Precision_weighted: {:.3f}'.format(scores_nb['test_precision_weighted'].mean()))\n",
    "\n",
    "print('Recall_weighted: {:.3f}'.format(scores_nb['test_recall_weighted'].mean()))"
   ]
  },
  {
   "cell_type": "code",
   "execution_count": 13,
   "metadata": {},
   "outputs": [
    {
     "name": "stdout",
     "output_type": "stream",
     "text": [
      "Accuracy: 0.918\n",
      "F1_weighted: 0.918\n",
      "Precision_weighted: 0.921\n",
      "Recall_weighted: 0.918\n"
     ]
    }
   ],
   "source": [
    "random_f = RandomForestClassifier()\n",
    "\n",
    "scores_random = cross_validate(random_f, X, y, cv=10, scoring=scoring)\n",
    "\n",
    "print('Accuracy: {:.3f}'.format(scores_random['test_accuracy'].mean()))\n",
    "\n",
    "print('F1_weighted: {:.3f}'.format(scores_random['test_f1_weighted'].mean()))\n",
    "\n",
    "print('Precision_weighted: {:.3f}'.format(scores_random['test_precision_weighted'].mean()))\n",
    "\n",
    "print('Recall_weighted: {:.3f}'.format(scores_random['test_recall_weighted'].mean()))\n"
   ]
  },
  {
   "cell_type": "code",
   "execution_count": 14,
   "metadata": {},
   "outputs": [
    {
     "data": {
      "text/html": [
       "<div>\n",
       "<style scoped>\n",
       "    .dataframe tbody tr th:only-of-type {\n",
       "        vertical-align: middle;\n",
       "    }\n",
       "\n",
       "    .dataframe tbody tr th {\n",
       "        vertical-align: top;\n",
       "    }\n",
       "\n",
       "    .dataframe thead th {\n",
       "        text-align: right;\n",
       "    }\n",
       "</style>\n",
       "<table border=\"1\" class=\"dataframe\">\n",
       "  <thead>\n",
       "    <tr style=\"text-align: right;\">\n",
       "      <th></th>\n",
       "      <th>Acuracia</th>\n",
       "      <th>Modelo</th>\n",
       "    </tr>\n",
       "  </thead>\n",
       "  <tbody>\n",
       "    <tr>\n",
       "      <th>1</th>\n",
       "      <td>0.988242</td>\n",
       "      <td>Naive Bayes</td>\n",
       "    </tr>\n",
       "    <tr>\n",
       "      <th>0</th>\n",
       "      <td>0.988228</td>\n",
       "      <td>Stochastic Gradient Decent</td>\n",
       "    </tr>\n",
       "    <tr>\n",
       "      <th>2</th>\n",
       "      <td>0.917756</td>\n",
       "      <td>Random Forest</td>\n",
       "    </tr>\n",
       "  </tbody>\n",
       "</table>\n",
       "</div>"
      ],
      "text/plain": [
       "   Acuracia                      Modelo\n",
       "1  0.988242                 Naive Bayes\n",
       "0  0.988228  Stochastic Gradient Decent\n",
       "2  0.917756               Random Forest"
      ]
     },
     "execution_count": 14,
     "metadata": {},
     "output_type": "execute_result"
    }
   ],
   "source": [
    "#Sumarização dos resultados - 10-folds cross-validation\n",
    "\n",
    "models = pd.DataFrame({\n",
    "    'Modelo': ['Stochastic Gradient Decent', 'Naive Bayes', 'Random Forest'],\n",
    "    'Acuracia': [scores_svm['test_accuracy'].mean(), scores_nb['test_accuracy'].mean(), scores_random['test_accuracy'].mean()]\n",
    "    })\n",
    "models.sort_values(by='Acuracia', ascending=False)"
   ]
  },
  {
   "cell_type": "markdown",
   "metadata": {},
   "source": [
    "#### Predição de novos dados\n"
   ]
  },
  {
   "cell_type": "code",
   "execution_count": 15,
   "metadata": {},
   "outputs": [],
   "source": [
    "#notícias de baseball- 1º, 2º, 5º, 7º\n",
    "#notícias sobre veículos - 3º, 4º, 6º\n",
    "\n",
    "#frases tiradas de sites de notícias\n",
    "new_docs = [\n",
    "    \"Major League Baseball has released its postseason schedule for 2018 and there's immediately good news: no November baseball.\",\n",
    "    \"If the World Series runs all seven games -- and c'mon, it's best when it does -- the final game of the season would take place on Halloween.\",\n",
    "    \"The government is preparing a fresh policy for promotion of electric vehicles, which will be rolled out initially on a smaller scale to ensure smoother transition and better cooperation from the automobile sector, a government official said.\",\n",
    "    \"The swift way in which the Idea-Vodafone merger is progressing under a year shows the improvement in ease of doing business in India.\",\n",
    "    \"MLB trade deadline: Orioles' Adam Jones explains why he vetoed a deal to the Phillies\",\n",
    "    \"The company, however, said it is currently working out the details of the quantum of price increase, which will vary depending on the model\",\n",
    "    \"Old standbys like Luis Severino and Corey Kluber haven't quite looked like themselves of late, and they're not alone. Scott White assesses the reliability of 20 presumed mainstays.\"\n",
    "]\n",
    "\n",
    "# 0 = autos, 1 = baseball\n",
    "y_new_docs = [1,1,0,0,1,0,1]\n",
    "\n",
    "x_new_tfidf_vectorize = vectorizer.transform(new_docs)"
   ]
  },
  {
   "cell_type": "markdown",
   "metadata": {},
   "source": [
    "De acordo com a [documentação](http://scikit-learn.org/stable/modules/cross_validation.html), a função *cross_validate* vai fazer o *split*, *fit* e vai computar o *score* K vezes. (\"splitting the data, fitting a model and computing the score K consecutive times\").\n",
    "\n",
    "E, de acordo com este [link](https://stats.stackexchange.com/a/52277) e [este](https://stackoverflow.com/questions/41560177/using-cross-val-predict-against-test-data-set), cross-validation é utilizado como uma forma de validar o modelo (algoritmo e parâmetros escolhidos) e não para a construção do modelo final. Sendo assim, para testar o modelo com as novas amostras, é necessário executar o *fit* com o conjunto de dados (vamos utilizar todo o dataset) para dar prosseguimento.\n"
   ]
  },
  {
   "cell_type": "code",
   "execution_count": 17,
   "metadata": {},
   "outputs": [
    {
     "name": "stdout",
     "output_type": "stream",
     "text": [
      "\"Major League Baseball has released its postseason schedule for 2018 and there's immediately good news: no November baseball.\" => rec.sport.baseball\n",
      "\"If the World Series runs all seven games -- and c'mon, it's best when it does -- the final game of the season would take place on Halloween.\" => rec.sport.baseball\n",
      "'The government is preparing a fresh policy for promotion of electric vehicles, which will be rolled out initially on a smaller scale to ensure smoother transition and better cooperation from the automobile sector, a government official said.' => rec.autos\n",
      "'The swift way in which the Idea-Vodafone merger is progressing under a year shows the improvement in ease of doing business in India.' => rec.autos\n",
      "\"MLB trade deadline: Orioles' Adam Jones explains why he vetoed a deal to the Phillies\" => rec.sport.baseball\n",
      "'The company, however, said it is currently working out the details of the quantum of price increase, which will vary depending on the model' => rec.autos\n",
      "\"Old standbys like Luis Severino and Corey Kluber haven't quite looked like themselves of late, and they're not alone. Scott White assesses the reliability of 20 presumed mainstays.\" => rec.sport.baseball\n"
     ]
    }
   ],
   "source": [
    "svm.fit(X, y)\n",
    "svm_predicted = svm.predict(x_new_tfidf_vectorize)\n",
    "\n",
    "for doc, category in zip(new_docs, svm_predicted):\n",
    "    print('%r => %s' % (doc, dataset_train.target_names[category]))"
   ]
  },
  {
   "cell_type": "code",
   "execution_count": 18,
   "metadata": {},
   "outputs": [
    {
     "name": "stdout",
     "output_type": "stream",
     "text": [
      "                    precision    recall  f1-score   support\n",
      "\n",
      "         rec.autos      1.000     1.000     1.000         3\n",
      "rec.sport.baseball      1.000     1.000     1.000         4\n",
      "\n",
      "       avg / total      1.000     1.000     1.000         7\n",
      "\n"
     ]
    }
   ],
   "source": [
    "print(metrics.classification_report(y_new_docs, svm_predicted, target_names=categories, digits=3))"
   ]
  },
  {
   "cell_type": "code",
   "execution_count": 19,
   "metadata": {},
   "outputs": [
    {
     "name": "stdout",
     "output_type": "stream",
     "text": [
      "\"Major League Baseball has released its postseason schedule for 2018 and there's immediately good news: no November baseball.\" => rec.sport.baseball\n",
      "\"If the World Series runs all seven games -- and c'mon, it's best when it does -- the final game of the season would take place on Halloween.\" => rec.sport.baseball\n",
      "'The government is preparing a fresh policy for promotion of electric vehicles, which will be rolled out initially on a smaller scale to ensure smoother transition and better cooperation from the automobile sector, a government official said.' => rec.autos\n",
      "'The swift way in which the Idea-Vodafone merger is progressing under a year shows the improvement in ease of doing business in India.' => rec.autos\n",
      "\"MLB trade deadline: Orioles' Adam Jones explains why he vetoed a deal to the Phillies\" => rec.sport.baseball\n",
      "'The company, however, said it is currently working out the details of the quantum of price increase, which will vary depending on the model' => rec.autos\n",
      "\"Old standbys like Luis Severino and Corey Kluber haven't quite looked like themselves of late, and they're not alone. Scott White assesses the reliability of 20 presumed mainstays.\" => rec.sport.baseball\n"
     ]
    }
   ],
   "source": [
    "nb.fit(X, y)\n",
    "\n",
    "nb_predicted = nb.predict(x_new_tfidf_vectorize)\n",
    "\n",
    "for doc, category in zip(new_docs, nb_predicted):\n",
    "    print('%r => %s' % (doc, dataset_train.target_names[category]))"
   ]
  },
  {
   "cell_type": "code",
   "execution_count": 20,
   "metadata": {},
   "outputs": [
    {
     "name": "stdout",
     "output_type": "stream",
     "text": [
      "                    precision    recall  f1-score   support\n",
      "\n",
      "         rec.autos      1.000     1.000     1.000         3\n",
      "rec.sport.baseball      1.000     1.000     1.000         4\n",
      "\n",
      "       avg / total      1.000     1.000     1.000         7\n",
      "\n"
     ]
    }
   ],
   "source": [
    "print(metrics.classification_report(y_new_docs, nb_predicted, target_names=categories, digits=3))"
   ]
  },
  {
   "cell_type": "markdown",
   "metadata": {},
   "source": [
    "O modelo utilizando o classificador Naive Bayes foi capaz de predizer corretamente todos os documentos."
   ]
  },
  {
   "cell_type": "code",
   "execution_count": 21,
   "metadata": {},
   "outputs": [
    {
     "name": "stdout",
     "output_type": "stream",
     "text": [
      "\"Major League Baseball has released its postseason schedule for 2018 and there's immediately good news: no November baseball.\" => rec.autos\n",
      "\"If the World Series runs all seven games -- and c'mon, it's best when it does -- the final game of the season would take place on Halloween.\" => rec.sport.baseball\n",
      "'The government is preparing a fresh policy for promotion of electric vehicles, which will be rolled out initially on a smaller scale to ensure smoother transition and better cooperation from the automobile sector, a government official said.' => rec.autos\n",
      "'The swift way in which the Idea-Vodafone merger is progressing under a year shows the improvement in ease of doing business in India.' => rec.autos\n",
      "\"MLB trade deadline: Orioles' Adam Jones explains why he vetoed a deal to the Phillies\" => rec.autos\n",
      "'The company, however, said it is currently working out the details of the quantum of price increase, which will vary depending on the model' => rec.autos\n",
      "\"Old standbys like Luis Severino and Corey Kluber haven't quite looked like themselves of late, and they're not alone. Scott White assesses the reliability of 20 presumed mainstays.\" => rec.autos\n"
     ]
    }
   ],
   "source": [
    "random_f.fit(X, y)\n",
    "random_predicted = random_f.predict(x_new_tfidf_vectorize)\n",
    "\n",
    "for doc, category in zip(new_docs, random_predicted):\n",
    "    print('%r => %s' % (doc, dataset_train.target_names[category]))"
   ]
  },
  {
   "cell_type": "code",
   "execution_count": 22,
   "metadata": {},
   "outputs": [
    {
     "name": "stdout",
     "output_type": "stream",
     "text": [
      "                    precision    recall  f1-score   support\n",
      "\n",
      "         rec.autos      0.500     1.000     0.667         3\n",
      "rec.sport.baseball      1.000     0.250     0.400         4\n",
      "\n",
      "       avg / total      0.786     0.571     0.514         7\n",
      "\n"
     ]
    }
   ],
   "source": [
    "print(metrics.classification_report(y_new_docs, random_predicted, target_names=categories, digits=3))"
   ]
  },
  {
   "cell_type": "markdown",
   "metadata": {},
   "source": [
    "O modelo utilizando o classificador RandomForest não se saiu muito bem, principalmente considerando a classe *baseball*, já que das 7 amostras classificou apenas 1 como *baseball*.\n",
    "\n",
    "Para cada métrica separadamente, é interessante observar que mesmo tendo um desempenho ruim para a classe *baseball*, a Precisão da mesma foi de 100%, já que a única amostra considerada como *baseball* pertencia realmente a essa classe.\n",
    "\n",
    "O mesmo ocorre para a classe *autos*, neste caso para a métrica Recall. Mesmo tendo classificado amostras da classe *baseball* erroneamente, todas as amostras da classe *autos* foram classificadas corretamente. \n",
    "\n",
    "Por isso é importante avaliar várias métricas e não focar em apenas uma."
   ]
  },
  {
   "cell_type": "code",
   "execution_count": 23,
   "metadata": {},
   "outputs": [
    {
     "name": "stdout",
     "output_type": "stream",
     "text": [
      "[[3 0]\n",
      " [3 1]]\n"
     ]
    }
   ],
   "source": [
    "from sklearn.metrics import confusion_matrix\n",
    "\n",
    "confusion_matrix = confusion_matrix(y_new_docs, random_predicted)\n",
    "print(confusion_matrix)"
   ]
  },
  {
   "cell_type": "markdown",
   "metadata": {},
   "source": [
    "true positive = 3, true negative = 1, false positive = 3 e false negative = 0\n",
    "\n",
    "Positive = autos e Negative = baseball\n",
    "\n",
    "Logo, na diagonal principal temos:\n",
    "- *true positive* (3) representa a quantidade de amostras classificadas como *autos* que realmente pertencem a essa classe, ou seja, que foram classificados corretamente.\n",
    "- *true negative* (1) representa a quantidade de amostras classificadas como *baseball* que realmente pertencem a essa classe.\n",
    "\n",
    "E na diagonal secundária:\n",
    "\n",
    "- *false positive* (3) representa a quantidade de amostras classificadas como *autos*, mas que na verdade são da classe *baseball* (neste caso, 3 amostras foram classificadas erroneamente).\n",
    "- *false negative* (0) representa a quantidade de amostras classificadas como *baseball*, mas que na verdade são da classe *autos* (neste caso, nenhuma amostra foi classificada erroneamente como *baseball*)."
   ]
  }
 ],
 "metadata": {
  "kernelspec": {
   "display_name": "Python 2",
   "language": "python",
   "name": "python2"
  },
  "language_info": {
   "codemirror_mode": {
    "name": "ipython",
    "version": 2
   },
   "file_extension": ".py",
   "mimetype": "text/x-python",
   "name": "python",
   "nbconvert_exporter": "python",
   "pygments_lexer": "ipython2",
   "version": "2.7.14"
  }
 },
 "nbformat": 4,
 "nbformat_minor": 2
}
